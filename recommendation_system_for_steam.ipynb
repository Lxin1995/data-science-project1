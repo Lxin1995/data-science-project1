{
 "cells": [
  {
   "cell_type": "code",
   "execution_count": 2,
   "metadata": {},
   "outputs": [],
   "source": [
    "import requests, json, time, math\n",
    "import pandas as pd\n",
    "from tqdm import tqdm_notebook as tqdm  ##address the new line problem of tqdm in jupyter notebook\n",
    "from sqlalchemy import *\n",
    "import pymysql"
   ]
  },
  {
   "cell_type": "markdown",
   "metadata": {},
   "source": [
    "import users id"
   ]
  },
  {
   "cell_type": "code",
   "execution_count": 29,
   "metadata": {},
   "outputs": [
    {
     "data": {
      "text/html": [
       "<div>\n",
       "<style scoped>\n",
       "    .dataframe tbody tr th:only-of-type {\n",
       "        vertical-align: middle;\n",
       "    }\n",
       "\n",
       "    .dataframe tbody tr th {\n",
       "        vertical-align: top;\n",
       "    }\n",
       "\n",
       "    .dataframe thead th {\n",
       "        text-align: right;\n",
       "    }\n",
       "</style>\n",
       "<table border=\"1\" class=\"dataframe\">\n",
       "  <thead>\n",
       "    <tr style=\"text-align: right;\">\n",
       "      <th></th>\n",
       "      <th>0</th>\n",
       "    </tr>\n",
       "  </thead>\n",
       "  <tbody>\n",
       "    <tr>\n",
       "      <th>0</th>\n",
       "      <td>76561198158086086</td>\n",
       "    </tr>\n",
       "    <tr>\n",
       "      <th>1</th>\n",
       "      <td>76561198074188133</td>\n",
       "    </tr>\n",
       "    <tr>\n",
       "      <th>2</th>\n",
       "      <td>76561198058088990</td>\n",
       "    </tr>\n",
       "    <tr>\n",
       "      <th>3</th>\n",
       "      <td>76561198175177483</td>\n",
       "    </tr>\n",
       "    <tr>\n",
       "      <th>4</th>\n",
       "      <td>76561198042649112</td>\n",
       "    </tr>\n",
       "  </tbody>\n",
       "</table>\n",
       "</div>"
      ],
      "text/plain": [
       "                   0\n",
       "0  76561198158086086\n",
       "1  76561198074188133\n",
       "2  76561198058088990\n",
       "3  76561198175177483\n",
       "4  76561198042649112"
      ]
     },
     "execution_count": 29,
     "metadata": {},
     "output_type": "execute_result"
    }
   ],
   "source": [
    "df=pd.read_csv('/Users/liuxin/Documents/data_lab/W1/steam_user_id.csv',header=None)  ##不让第一行读为column name\n",
    "df.head()"
   ]
  },
  {
   "cell_type": "markdown",
   "metadata": {},
   "source": [
    "obtain url, API key from steam website"
   ]
  },
  {
   "cell_type": "code",
   "execution_count": 23,
   "metadata": {},
   "outputs": [],
   "source": [
    "base_url= 'http://api.steampowered.com/IPlayerService/GetOwnedGames/v0001/'\n",
    "dic_temp = {}"
   ]
  },
  {
   "cell_type": "code",
   "execution_count": 30,
   "metadata": {},
   "outputs": [
    {
     "data": {
      "application/vnd.jupyter.widget-view+json": {
       "model_id": "8229c1032ac044dea5c1937937cee263",
       "version_major": 2,
       "version_minor": 0
      },
      "text/plain": [
       "HBox(children=(IntProgress(value=0, max=5000), HTML(value='')))"
      ]
     },
     "metadata": {},
     "output_type": "display_data"
    }
   ],
   "source": [
    "try:\n",
    "    with tqdm(range(df.shape[0])) as t:\n",
    "        for i in t:\n",
    "            user_id=str((df.loc[i][0]))\n",
    "            param={\n",
    "           'key': '77551F6A63EFCF3C03A15066DFB9FB6F',\n",
    "           'steamid':user_id,\n",
    "           'format' : 'json' }\n",
    "            r = requests.get(base_url, params = param, headers = {})\n",
    "            user_inventory = r.json().get('response').get('games')\n",
    "            time.sleep(.5)\n",
    "            dic_temp.update({user_id:user_inventory})\n",
    "except KeyboardInterrupt:\n",
    "    t.close()\n",
    "    raise\n",
    "t.close()"
   ]
  },
  {
   "cell_type": "code",
   "execution_count": null,
   "metadata": {},
   "outputs": [],
   "source": []
  },
  {
   "cell_type": "markdown",
   "metadata": {},
   "source": [
    "write user_id and the corresponding game information into a csv file."
   ]
  },
  {
   "cell_type": "code",
   "execution_count": 37,
   "metadata": {},
   "outputs": [],
   "source": [
    "with open('/Users/liuxin/Documents/data_lab/recommendation_system/user_inventory.csv', 'w') as f:\n",
    "    for user_id, user_inventory in list(dic_temp.items()):\n",
    "        f.write(json.dumps({str(user_id):user_inventory}))\n",
    "        f.write('\\n')"
   ]
  },
  {
   "cell_type": "markdown",
   "metadata": {},
   "source": [
    "get application information"
   ]
  },
  {
   "cell_type": "code",
   "execution_count": 15,
   "metadata": {},
   "outputs": [],
   "source": [
    "url = 'https://api.steampowered.com/ISteamApps/GetAppList/v2/'\n",
    "r = requests.get(url)"
   ]
  },
  {
   "cell_type": "code",
   "execution_count": 16,
   "metadata": {},
   "outputs": [],
   "source": [
    "dic_app_list = r.json()"
   ]
  },
  {
   "cell_type": "code",
   "execution_count": 17,
   "metadata": {},
   "outputs": [
    {
     "data": {
      "text/plain": [
       "90796"
      ]
     },
     "execution_count": 17,
     "metadata": {},
     "output_type": "execute_result"
    }
   ],
   "source": [
    "lst_app_id = [i.get('appid') for i in dic_app_list.get('applist').get('apps')]\n",
    "len(lst_app_id)\n"
   ]
  },
  {
   "cell_type": "code",
   "execution_count": null,
   "metadata": {},
   "outputs": [],
   "source": [
    "current_count = 0\n",
    "path_app_detail_sample = '/Users/liuxin/Documents/data_lab/recommendation_system/app_detail.csv'\n",
    "with open(path_app_detail_sample, 'w') as f:\n",
    "    for app_id in tqdm(lst_app_id[0:50]):\n",
    "        url_app_detail = ('http://store.steampowered.com/api/appdetails?appids=%s') % (app_id)\n",
    "        for i in range(3):\n",
    "            try:\n",
    "                r = requests.get(url_app_detail)\n",
    "                result = r.json()\n",
    "                break\n",
    "            except Exception as e:\n",
    "                print(e)\n",
    "                time.sleep(5)\n",
    "        f.write(json.dumps(result))\n",
    "        f.write('\\n')\n",
    "\n",
    "        if current_count > 0 and current_count % 200 == 0:\n",
    "            time.sleep(300)\n",
    "        else:\n",
    "            time.sleep(.5)"
   ]
  },
  {
   "cell_type": "code",
   "execution_count": null,
   "metadata": {},
   "outputs": [],
   "source": [
    "path_app_detail = '/Users/liuxin/Documents/data_lab/recommendation_system/app_detail.csv'\n",
    "\n",
    "with open(path_app_detail, 'r') as f:\n",
    "    \n",
    "    dic_steam_app = {\n",
    "        'initial_price':{},\n",
    "        'name':{},\n",
    "        'score':{},\n",
    "        'windows':{},\n",
    "        'mac':{},\n",
    "        'linux':{},\n",
    "        'type':{},\n",
    "        'release_date':{},\n",
    "        'recommendation':{},\n",
    "        'header_image':{}\n",
    "    }\n",
    "    lst_raw_string = f.readlines()[:14]\n",
    "\n",
    "    for raw_string in tqdm(lst_raw_string):\n",
    "        try:\n",
    "            app_data = list(json.loads(raw_string).values())[0]\n",
    "            if app_data.get('success'):\n",
    "                app_data = app_data.get('data')\n",
    "                steam_id = app_data.get('steam_appid')\n",
    "                initial_price = app_data.get('price_overview',{}).get('initial')\n",
    "                if app_data.get('is_free') == True:\n",
    "                    initial_price = 0\n",
    "                app_name = app_data.get('name')\n",
    "                critic_score = app_data.get('metacritic', {}).get('score')\n",
    "                app_type = app_data.get('type')\n",
    "                for (platform, is_supported) in app_data.get('platforms',{}).items():\n",
    "                    if is_supported == True:\n",
    "                        dic_steam_app[platform].update({steam_id:1})\n",
    "                    else:\n",
    "                        dic_steam_app[platform].update({steam_id:0})\n",
    "                if app_data.get('release_date',{}).get('coming_soon') == False:\n",
    "                    release_date = app_data.get('release_date',{}).get('date')\n",
    "                    if not release_date == '':\n",
    "                        try:\n",
    "                            release_date = datetime.strptime(release_date, '%b %d, %Y')\n",
    "                        except Exception as e:\n",
    "                            try:\n",
    "                                release_date = datetime.strptime(release_date, '%d %b, %Y')\n",
    "                            except:\n",
    "                                release_date = None\n",
    "                        \n",
    "\n",
    "                recommendation = app_data.get('recommendations',{}).get('total')\n",
    "                header_image = app_data.get('header_image')\n",
    "                dic_steam_app['initial_price'].update({steam_id:initial_price})\n",
    "                dic_steam_app['name'].update({steam_id:app_name})\n",
    "                dic_steam_app['score'].update({steam_id:critic_score})\n",
    "                dic_steam_app['type'].update({steam_id:app_type})\n",
    "                dic_steam_app['release_date'].update({steam_id:release_date})\n",
    "                dic_steam_app['recommendation'].update({steam_id:recommendation})\n",
    "                dic_steam_app['header_image'].update({steam_id:header_image})\n",
    "            time.sleep(.1)\n",
    "        except:\n",
    "            pass\n",
    "\n"
   ]
  },
  {
   "cell_type": "markdown",
   "metadata": {},
   "source": [
    "work with MySQL in Python"
   ]
  },
  {
   "cell_type": "code",
   "execution_count": 21,
   "metadata": {},
   "outputs": [],
   "source": [
    "df_app_info = pd.DataFrame(dic_steam_app)"
   ]
  },
  {
   "cell_type": "code",
   "execution_count": 22,
   "metadata": {},
   "outputs": [],
   "source": [
    "df_app_info.index.name = 'app_id'   ##the first col is always the index"
   ]
  },
  {
   "cell_type": "code",
   "execution_count": 23,
   "metadata": {},
   "outputs": [
    {
     "data": {
      "text/html": [
       "<div>\n",
       "<style scoped>\n",
       "    .dataframe tbody tr th:only-of-type {\n",
       "        vertical-align: middle;\n",
       "    }\n",
       "\n",
       "    .dataframe tbody tr th {\n",
       "        vertical-align: top;\n",
       "    }\n",
       "\n",
       "    .dataframe thead th {\n",
       "        text-align: right;\n",
       "    }\n",
       "</style>\n",
       "<table border=\"1\" class=\"dataframe\">\n",
       "  <thead>\n",
       "    <tr style=\"text-align: right;\">\n",
       "      <th></th>\n",
       "      <th>app_id</th>\n",
       "      <th>initial_price</th>\n",
       "      <th>name</th>\n",
       "      <th>score</th>\n",
       "      <th>windows</th>\n",
       "      <th>mac</th>\n",
       "      <th>linux</th>\n",
       "      <th>type</th>\n",
       "      <th>release_date</th>\n",
       "      <th>recommendation</th>\n",
       "      <th>header_image</th>\n",
       "    </tr>\n",
       "  </thead>\n",
       "  <tbody>\n",
       "    <tr>\n",
       "      <th>0</th>\n",
       "      <td>535530</td>\n",
       "      <td>1999</td>\n",
       "      <td>Demon Hunter</td>\n",
       "      <td>None</td>\n",
       "      <td>1</td>\n",
       "      <td>0</td>\n",
       "      <td>0</td>\n",
       "      <td>game</td>\n",
       "      <td>None</td>\n",
       "      <td>None</td>\n",
       "      <td>https://steamcdn-a.akamaihd.net/steam/apps/535...</td>\n",
       "    </tr>\n",
       "    <tr>\n",
       "      <th>1</th>\n",
       "      <td>535540</td>\n",
       "      <td>799</td>\n",
       "      <td>TANE DLC: Laadgs Transporter</td>\n",
       "      <td>None</td>\n",
       "      <td>1</td>\n",
       "      <td>1</td>\n",
       "      <td>0</td>\n",
       "      <td>dlc</td>\n",
       "      <td>None</td>\n",
       "      <td>None</td>\n",
       "      <td>https://steamcdn-a.akamaihd.net/steam/apps/535...</td>\n",
       "    </tr>\n",
       "    <tr>\n",
       "      <th>2</th>\n",
       "      <td>535580</td>\n",
       "      <td>899</td>\n",
       "      <td>TANE DLC: Avmz Intercity 71</td>\n",
       "      <td>None</td>\n",
       "      <td>1</td>\n",
       "      <td>1</td>\n",
       "      <td>0</td>\n",
       "      <td>dlc</td>\n",
       "      <td>None</td>\n",
       "      <td>None</td>\n",
       "      <td>https://steamcdn-a.akamaihd.net/steam/apps/535...</td>\n",
       "    </tr>\n",
       "    <tr>\n",
       "      <th>3</th>\n",
       "      <td>535600</td>\n",
       "      <td>799</td>\n",
       "      <td>TANE DLC: Hccrrs Car Transporter</td>\n",
       "      <td>None</td>\n",
       "      <td>1</td>\n",
       "      <td>1</td>\n",
       "      <td>0</td>\n",
       "      <td>dlc</td>\n",
       "      <td>None</td>\n",
       "      <td>None</td>\n",
       "      <td>https://steamcdn-a.akamaihd.net/steam/apps/535...</td>\n",
       "    </tr>\n",
       "    <tr>\n",
       "      <th>4</th>\n",
       "      <td>535650</td>\n",
       "      <td>299</td>\n",
       "      <td>Dwingle : B.O.T</td>\n",
       "      <td>None</td>\n",
       "      <td>1</td>\n",
       "      <td>0</td>\n",
       "      <td>0</td>\n",
       "      <td>game</td>\n",
       "      <td>None</td>\n",
       "      <td>None</td>\n",
       "      <td>https://steamcdn-a.akamaihd.net/steam/apps/535...</td>\n",
       "    </tr>\n",
       "  </tbody>\n",
       "</table>\n",
       "</div>"
      ],
      "text/plain": [
       "   app_id  initial_price                              name score  windows  \\\n",
       "0  535530           1999                      Demon Hunter  None        1   \n",
       "1  535540            799      TANE DLC: Laadgs Transporter  None        1   \n",
       "2  535580            899       TANE DLC: Avmz Intercity 71  None        1   \n",
       "3  535600            799  TANE DLC: Hccrrs Car Transporter  None        1   \n",
       "4  535650            299                   Dwingle : B.O.T  None        1   \n",
       "\n",
       "   mac  linux  type release_date recommendation  \\\n",
       "0    0      0  game         None           None   \n",
       "1    1      0   dlc         None           None   \n",
       "2    1      0   dlc         None           None   \n",
       "3    1      0   dlc         None           None   \n",
       "4    0      0  game         None           None   \n",
       "\n",
       "                                        header_image  \n",
       "0  https://steamcdn-a.akamaihd.net/steam/apps/535...  \n",
       "1  https://steamcdn-a.akamaihd.net/steam/apps/535...  \n",
       "2  https://steamcdn-a.akamaihd.net/steam/apps/535...  \n",
       "3  https://steamcdn-a.akamaihd.net/steam/apps/535...  \n",
       "4  https://steamcdn-a.akamaihd.net/steam/apps/535...  "
      ]
     },
     "execution_count": 23,
     "metadata": {},
     "output_type": "execute_result"
    }
   ],
   "source": [
    "df_app_info.reset_index(inplace=True)\n",
    "df_app_info.head()"
   ]
  },
  {
   "cell_type": "code",
   "execution_count": 25,
   "metadata": {},
   "outputs": [],
   "source": [
    "user = 'root'\n",
    "password = 'x9Liu12@'\n",
    "host = 'localhost'\n",
    "db_name = 'steam'\n",
    "engine = create_engine(f'mysql+pymysql://{user}:{password}@{host}/{db_name}?charset=utf8mb4')"
   ]
  },
  {
   "cell_type": "code",
   "execution_count": 26,
   "metadata": {},
   "outputs": [],
   "source": [
    "df_app_info.to_sql('tbl_app_info', engine, if_exists='replace',index=False)"
   ]
  },
  {
   "cell_type": "code",
   "execution_count": 27,
   "metadata": {},
   "outputs": [
    {
     "data": {
      "text/html": [
       "<div>\n",
       "<style scoped>\n",
       "    .dataframe tbody tr th:only-of-type {\n",
       "        vertical-align: middle;\n",
       "    }\n",
       "\n",
       "    .dataframe tbody tr th {\n",
       "        vertical-align: top;\n",
       "    }\n",
       "\n",
       "    .dataframe thead th {\n",
       "        text-align: right;\n",
       "    }\n",
       "</style>\n",
       "<table border=\"1\" class=\"dataframe\">\n",
       "  <thead>\n",
       "    <tr style=\"text-align: right;\">\n",
       "      <th></th>\n",
       "      <th>app_id</th>\n",
       "      <th>initial_price</th>\n",
       "      <th>name</th>\n",
       "      <th>score</th>\n",
       "      <th>windows</th>\n",
       "      <th>mac</th>\n",
       "      <th>linux</th>\n",
       "      <th>type</th>\n",
       "      <th>release_date</th>\n",
       "      <th>recommendation</th>\n",
       "      <th>header_image</th>\n",
       "    </tr>\n",
       "  </thead>\n",
       "  <tbody>\n",
       "    <tr>\n",
       "      <th>0</th>\n",
       "      <td>535530</td>\n",
       "      <td>1999</td>\n",
       "      <td>Demon Hunter</td>\n",
       "      <td>None</td>\n",
       "      <td>1</td>\n",
       "      <td>0</td>\n",
       "      <td>0</td>\n",
       "      <td>game</td>\n",
       "      <td>None</td>\n",
       "      <td>None</td>\n",
       "      <td>https://steamcdn-a.akamaihd.net/steam/apps/535...</td>\n",
       "    </tr>\n",
       "    <tr>\n",
       "      <th>1</th>\n",
       "      <td>535540</td>\n",
       "      <td>799</td>\n",
       "      <td>TANE DLC: Laadgs Transporter</td>\n",
       "      <td>None</td>\n",
       "      <td>1</td>\n",
       "      <td>1</td>\n",
       "      <td>0</td>\n",
       "      <td>dlc</td>\n",
       "      <td>None</td>\n",
       "      <td>None</td>\n",
       "      <td>https://steamcdn-a.akamaihd.net/steam/apps/535...</td>\n",
       "    </tr>\n",
       "    <tr>\n",
       "      <th>2</th>\n",
       "      <td>535580</td>\n",
       "      <td>899</td>\n",
       "      <td>TANE DLC: Avmz Intercity 71</td>\n",
       "      <td>None</td>\n",
       "      <td>1</td>\n",
       "      <td>1</td>\n",
       "      <td>0</td>\n",
       "      <td>dlc</td>\n",
       "      <td>None</td>\n",
       "      <td>None</td>\n",
       "      <td>https://steamcdn-a.akamaihd.net/steam/apps/535...</td>\n",
       "    </tr>\n",
       "    <tr>\n",
       "      <th>3</th>\n",
       "      <td>535600</td>\n",
       "      <td>799</td>\n",
       "      <td>TANE DLC: Hccrrs Car Transporter</td>\n",
       "      <td>None</td>\n",
       "      <td>1</td>\n",
       "      <td>1</td>\n",
       "      <td>0</td>\n",
       "      <td>dlc</td>\n",
       "      <td>None</td>\n",
       "      <td>None</td>\n",
       "      <td>https://steamcdn-a.akamaihd.net/steam/apps/535...</td>\n",
       "    </tr>\n",
       "    <tr>\n",
       "      <th>4</th>\n",
       "      <td>535650</td>\n",
       "      <td>299</td>\n",
       "      <td>Dwingle : B.O.T</td>\n",
       "      <td>None</td>\n",
       "      <td>1</td>\n",
       "      <td>0</td>\n",
       "      <td>0</td>\n",
       "      <td>game</td>\n",
       "      <td>None</td>\n",
       "      <td>None</td>\n",
       "      <td>https://steamcdn-a.akamaihd.net/steam/apps/535...</td>\n",
       "    </tr>\n",
       "    <tr>\n",
       "      <th>5</th>\n",
       "      <td>535660</td>\n",
       "      <td>0</td>\n",
       "      <td>Space Ribbon Demo</td>\n",
       "      <td>None</td>\n",
       "      <td>1</td>\n",
       "      <td>1</td>\n",
       "      <td>1</td>\n",
       "      <td>demo</td>\n",
       "      <td>None</td>\n",
       "      <td>None</td>\n",
       "      <td>https://steamcdn-a.akamaihd.net/steam/apps/535...</td>\n",
       "    </tr>\n",
       "    <tr>\n",
       "      <th>6</th>\n",
       "      <td>535680</td>\n",
       "      <td>499</td>\n",
       "      <td>Moorhuhn schlägt zurück</td>\n",
       "      <td>None</td>\n",
       "      <td>1</td>\n",
       "      <td>0</td>\n",
       "      <td>0</td>\n",
       "      <td>game</td>\n",
       "      <td>None</td>\n",
       "      <td>None</td>\n",
       "      <td>https://steamcdn-a.akamaihd.net/steam/apps/535...</td>\n",
       "    </tr>\n",
       "  </tbody>\n",
       "</table>\n",
       "</div>"
      ],
      "text/plain": [
       "   app_id  initial_price                              name score  windows  \\\n",
       "0  535530           1999                      Demon Hunter  None        1   \n",
       "1  535540            799      TANE DLC: Laadgs Transporter  None        1   \n",
       "2  535580            899       TANE DLC: Avmz Intercity 71  None        1   \n",
       "3  535600            799  TANE DLC: Hccrrs Car Transporter  None        1   \n",
       "4  535650            299                   Dwingle : B.O.T  None        1   \n",
       "5  535660              0                 Space Ribbon Demo  None        1   \n",
       "6  535680            499           Moorhuhn schlägt zurück  None        1   \n",
       "\n",
       "   mac  linux  type release_date recommendation  \\\n",
       "0    0      0  game         None           None   \n",
       "1    1      0   dlc         None           None   \n",
       "2    1      0   dlc         None           None   \n",
       "3    1      0   dlc         None           None   \n",
       "4    0      0  game         None           None   \n",
       "5    1      1  demo         None           None   \n",
       "6    0      0  game         None           None   \n",
       "\n",
       "                                        header_image  \n",
       "0  https://steamcdn-a.akamaihd.net/steam/apps/535...  \n",
       "1  https://steamcdn-a.akamaihd.net/steam/apps/535...  \n",
       "2  https://steamcdn-a.akamaihd.net/steam/apps/535...  \n",
       "3  https://steamcdn-a.akamaihd.net/steam/apps/535...  \n",
       "4  https://steamcdn-a.akamaihd.net/steam/apps/535...  \n",
       "5  https://steamcdn-a.akamaihd.net/steam/apps/535...  \n",
       "6  https://steamcdn-a.akamaihd.net/steam/apps/535...  "
      ]
     },
     "execution_count": 27,
     "metadata": {},
     "output_type": "execute_result"
    }
   ],
   "source": [
    "pd.read_sql_query('''\n",
    "    select * from tbl_app_info \n",
    "''', engine)"
   ]
  },
  {
   "cell_type": "code",
   "execution_count": null,
   "metadata": {},
   "outputs": [],
   "source": []
  }
 ],
 "metadata": {
  "kernelspec": {
   "display_name": "Python 3",
   "language": "python",
   "name": "python3"
  },
  "language_info": {
   "codemirror_mode": {
    "name": "ipython",
    "version": 3
   },
   "file_extension": ".py",
   "mimetype": "text/x-python",
   "name": "python",
   "nbconvert_exporter": "python",
   "pygments_lexer": "ipython3",
   "version": "3.7.3"
  }
 },
 "nbformat": 4,
 "nbformat_minor": 2
}
